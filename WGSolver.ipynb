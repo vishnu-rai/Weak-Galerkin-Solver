{
  "cells": [
    {
      "cell_type": "markdown",
      "metadata": {
        "id": "view-in-github",
        "colab_type": "text"
      },
      "source": [
        "<a href=\"https://colab.research.google.com/github/vishnu-rai/Weak-Galerkin-Solver/blob/main/WGSolver.ipynb\" target=\"_parent\"><img src=\"https://colab.research.google.com/assets/colab-badge.svg\" alt=\"Open In Colab\"/></a>"
      ]
    },
    {
      "cell_type": "code",
      "source": [
        "!git init"
      ],
      "metadata": {
        "colab": {
          "base_uri": "https://localhost:8080/"
        },
        "id": "KbhFo_jLlGVB",
        "outputId": "fd50f346-a864-49a5-919d-cf856cc9ddcc"
      },
      "execution_count": null,
      "outputs": [
        {
          "output_type": "stream",
          "name": "stdout",
          "text": [
            "Initialized empty Git repository in /content/.git/\n"
          ]
        }
      ]
    },
    {
      "cell_type": "code",
      "source": [
        "!git config --global user.email \"vishnurai1999@gmail.com\""
      ],
      "metadata": {
        "id": "LSLhPyR0lX1P"
      },
      "execution_count": null,
      "outputs": []
    },
    {
      "cell_type": "code",
      "source": [
        "!git config --global user.name \"vishnu-rai\""
      ],
      "metadata": {
        "id": "5olcjkkoldpt"
      },
      "execution_count": null,
      "outputs": []
    },
    {
      "cell_type": "code",
      "source": [
        "!git add ."
      ],
      "metadata": {
        "id": "GgqV9q1Tl_tg"
      },
      "execution_count": null,
      "outputs": []
    },
    {
      "cell_type": "code",
      "source": [
        "!git commit -m \"Solving for diamond element\""
      ],
      "metadata": {
        "colab": {
          "base_uri": "https://localhost:8080/"
        },
        "id": "wpGWzMILmCtf",
        "outputId": "5e1b8b8a-6e56-4d55-8273-9f6a28d576eb"
      },
      "execution_count": null,
      "outputs": [
        {
          "output_type": "stream",
          "name": "stdout",
          "text": [
            "[master (root-commit) 5c27ee1] Solving for diamond element\n",
            " 20 files changed, 50872 insertions(+)\n",
            " create mode 100644 .config/.last_opt_in_prompt.yaml\n",
            " create mode 100644 .config/.last_survey_prompt.yaml\n",
            " create mode 100644 .config/.last_update_check.json\n",
            " create mode 100644 .config/active_config\n",
            " create mode 100644 .config/config_sentinel\n",
            " create mode 100644 .config/configurations/config_default\n",
            " create mode 100644 .config/gce\n",
            " create mode 100644 .config/logs/2023.04.27/13.34.04.553193.log\n",
            " create mode 100644 .config/logs/2023.04.27/13.34.30.224760.log\n",
            " create mode 100644 .config/logs/2023.04.27/13.34.57.714416.log\n",
            " create mode 100644 .config/logs/2023.04.27/13.35.06.138145.log\n",
            " create mode 100644 .config/logs/2023.04.27/13.35.34.172195.log\n",
            " create mode 100644 .config/logs/2023.04.27/13.35.35.098957.log\n",
            " create mode 100644 diamond_mesh.png\n",
            " create mode 100755 sample_data/README.md\n",
            " create mode 100755 sample_data/anscombe.json\n",
            " create mode 100644 sample_data/california_housing_test.csv\n",
            " create mode 100644 sample_data/california_housing_train.csv\n",
            " create mode 100644 sample_data/mnist_test.csv\n",
            " create mode 100644 sample_data/mnist_train_small.csv\n"
          ]
        }
      ]
    },
    {
      "cell_type": "code",
      "source": [
        "!git checkout master"
      ],
      "metadata": {
        "colab": {
          "base_uri": "https://localhost:8080/"
        },
        "id": "Tw-zjJSfmLhZ",
        "outputId": "da0aba85-3787-424a-bbbe-b7deb7001f0b"
      },
      "execution_count": null,
      "outputs": [
        {
          "output_type": "stream",
          "name": "stdout",
          "text": [
            "Already on 'master'\n"
          ]
        }
      ]
    },
    {
      "cell_type": "code",
      "source": [
        "!git remote set-url origin https://github.com/vishnu-rai/Weak-Galerkin-Solver"
      ],
      "metadata": {
        "id": "XpUiqGTwmhEJ"
      },
      "execution_count": null,
      "outputs": []
    },
    {
      "cell_type": "code",
      "source": [
        "!git push origin master"
      ],
      "metadata": {
        "colab": {
          "base_uri": "https://localhost:8080/"
        },
        "id": "QCQP57glmmvk",
        "outputId": "07581827-8aa0-4b25-e84a-e61657118538"
      },
      "execution_count": null,
      "outputs": [
        {
          "output_type": "stream",
          "name": "stdout",
          "text": [
            "fatal: could not read Username for 'https://github.com': No such device or address\n"
          ]
        }
      ]
    },
    {
      "cell_type": "code",
      "execution_count": null,
      "metadata": {
        "id": "HfjGzxv_NNqZ"
      },
      "outputs": [],
      "source": [
        "import numpy as np\n",
        "import matplotlib.pyplot as plt\n",
        "import math\n",
        "import sympy as sp\n",
        "from sympy import symbols, eye, zeros, integrate\n",
        "from typing import Tuple\n",
        "from scipy.sparse import dok_matrix, csc_matrix,csr_matrix\n",
        "import matplotlib.pyplot as plt\n",
        "from mpl_toolkits.mplot3d.art3d import Poly3DCollection\n",
        "from sympy import symbols, eye, zeros, integrate"
      ]
    },
    {
      "cell_type": "code",
      "source": [
        "def findCoords(n):\n",
        "  square_coords = []\n",
        "  diamond_coords=[]\n",
        "\n",
        "  for x in range(n):\n",
        "      for y in range(n):\n",
        "          square_coord = [(x/n, y/n), ((x+1)/n, y/n), ((x+1)/n, (y+1)/n), (x/n, (y+1)/n), (x/n, y/n)]\n",
        "          square_coords.append(square_coord)\n",
        "          diamond_coord = [((x+0.5)/n, (y+1)/n), ((x+1)/n, (y+0.5)/n), ((x+0.5)/n, y/n), (x/n, (y + 0.5)/n), ((x + 0.5)/n, (y + 1)/n)]\n",
        "          diamond_coords.append(diamond_coord)\n",
        "\n",
        "  return square_coords,diamond_coords"
      ],
      "metadata": {
        "id": "c465SbM2eaXe"
      },
      "execution_count": null,
      "outputs": []
    },
    {
      "cell_type": "code",
      "source": [
        "def findVertices(vertice,n):\n",
        "  vertices={}\n",
        "  verticesToCoord={}\n",
        "  vertices[(0,0)]=vertice\n",
        "  verticesToCoord[vertice]=(0,0)\n",
        "  vertice+=1\n",
        "  for i in range(0,(2*n)+1):\n",
        "    for j in range(0,(i%2)+n):\n",
        "      x=j/n\n",
        "      y=i/(2*n)\n",
        "      if i%2==0:\n",
        "        x=x+1/(2*n)\n",
        "      vertices[(x,y)]=vertice\n",
        "      verticesToCoord[vertice]=(x,y)\n",
        "      vertice+=1\n",
        "    if i==0:\n",
        "      vertices[(1,0)]=vertice\n",
        "      verticesToCoord[vertice]=(1,0)\n",
        "      vertice+=1\n",
        "    if i==2*n-1:\n",
        "      vertices[(0,1)]=vertice\n",
        "      verticesToCoord[vertice]=(0,1)\n",
        "      vertice+=1\n",
        "  vertices[(1,1)]=vertice\n",
        "  verticesToCoord[vertice]=(1,1)\n",
        "  vertice+=1\n",
        "  return vertices,verticesToCoord"
      ],
      "metadata": {
        "id": "CMJWl5ZGeeHV"
      },
      "execution_count": null,
      "outputs": []
    },
    {
      "cell_type": "code",
      "source": [
        "def findDiamondVertices(n):\n",
        "  diamond_vertices=[]\n",
        "  for i in range(0,2*n-1):\n",
        "    for j in range(0,n-(i%2)): \n",
        "      temp = n+3+(n+1)*(math.ceil(i/2))+(n)*(i//2)+j\n",
        "      if i!=0:\n",
        "        diamond = [temp,temp+n+1,temp+1,temp-n]\n",
        "      else:\n",
        "        diamond = [temp,temp+n+1,temp+1,temp-n-1]\n",
        "\n",
        "      if i==2*n-2:\n",
        "        diamond = [temp,temp+n+2,temp+1,temp-n]\n",
        "\n",
        "      diamond_vertices.append(diamond) \n",
        "  \n",
        "  return diamond_vertices"
      ],
      "metadata": {
        "id": "8g65-mRMegRF"
      },
      "execution_count": null,
      "outputs": []
    },
    {
      "cell_type": "code",
      "source": [
        "def findTriangleVertices(y,n,vertices):\n",
        "  triangle_vertices=[]\n",
        "  triangle_vertices.append([vertices[(0,0)],vertices[(0,1/(2*n))],vertices[(1/(2*n),0)],0])\n",
        "  while y<1-(1/(2*n)):\n",
        "    triangle_vertices.append([vertices[(0,y)],vertices[(0,y+(1/n))],vertices[((1/(2*n)),y+(1/(2*n)))],0])\n",
        "    y=y+(1/n)\n",
        "  triangle_vertices.append([vertices[(0,1-(1/(2*n)))],vertices[(0,1)],vertices[(1/(2*n),1)],0])\n",
        "  x=1/(2*n)\n",
        "  while x<1-(1/(2*n)):\n",
        "    triangle_vertices.append([vertices[(x,1)],vertices[(x+(1/n),1)],vertices[(x+1/(2*n),1-1/(2*n))],0])\n",
        "    x=x+(1/n)\n",
        "  triangle_vertices.append([vertices[(1-1/(2*n),1)],vertices[(1,1)],vertices[(1,1-1/(2*n))],0])\n",
        "  y=1-(1/(2*n))\n",
        "  while y>1/(2*n):\n",
        "    triangle_vertices.append([vertices[(1,y)],vertices[(1,y-(1/n))],vertices[(1-(1/(2*n)),y-(1/(2*n)))],0])\n",
        "    y=y-(1/n)\n",
        "  triangle_vertices.append([vertices[(1-(1/(2*n)),0)],vertices[(1,1/(2*n))],vertices[(1,0)],0])\n",
        "  x=1-(1/(2*n))\n",
        "  while x>1/(2*n):\n",
        "    triangle_vertices.append([vertices[(x,0)],vertices[(x-(1/n),0)],vertices[(x-(1/(2*n)),(1/(2*n)))],0])\n",
        "    x=x-(1/n)\n",
        "  return triangle_vertices"
      ],
      "metadata": {
        "id": "jDWmJk7veijq"
      },
      "execution_count": null,
      "outputs": []
    },
    {
      "cell_type": "code",
      "source": [
        "def findEdges(edge,n,vertices):\n",
        "  q=1/(2*n)\n",
        "  h=1/n\n",
        "  edges={}\n",
        "  temp_edges={}\n",
        "  edges[vertices[(0,0)],vertices[q,0]]=edge\n",
        "  edges[vertices[q,0],vertices[(0,0)]]=edge\n",
        "  temp_edges[vertices[(0,0)],vertices[q,0]]=edge\n",
        "  edge=edge+1\n",
        "  x=q\n",
        "  while x<1-h:\n",
        "    edges[vertices[(x,0)],vertices[x+h,0]]=edge\n",
        "    edges[vertices[x+h,0],vertices[(x,0)]]=edge\n",
        "    temp_edges[vertices[(x,0)],vertices[x+h,0]]=edge\n",
        "    edge=edge+1\n",
        "    x=x+h\n",
        "  edges[vertices[(1-q,0)],vertices[1,0]]=edge\n",
        "  edges[vertices[1,0],vertices[(1-q,0)]]=edge\n",
        "  temp_edges[vertices[(1-q,0)],vertices[1,0]]=edge\n",
        "  edge=edge+1\n",
        "  edges[vertices[(1,0)],vertices[1,q]]=edge\n",
        "  edges[vertices[1,q],vertices[(1,0)]]=edge\n",
        "  temp_edges[vertices[(1,0)],vertices[1,q]]=edge\n",
        "  edge=edge+1\n",
        "  y=q\n",
        "  while y<1-h:\n",
        "    edges[vertices[(1,y)],vertices[1,y+h]]=edge\n",
        "    edges[vertices[1,y+h],vertices[(1,y)]]=edge\n",
        "    temp_edges[vertices[(1,y)],vertices[1,y+h]]=edge\n",
        "    edge=edge+1\n",
        "    y=y+h\n",
        "  edges[vertices[(1,1-q)],vertices[1,1]]=edge\n",
        "  edges[vertices[1,1],vertices[(1,1-q)]]=edge\n",
        "  temp_edges[vertices[(1,1-q)],vertices[1,1]]=edge\n",
        "  edge=edge+1\n",
        "  edges[vertices[(1,1)],vertices[1-q,1]]=edge\n",
        "  edges[vertices[1-q,1],vertices[(1,1)]]=edge\n",
        "  temp_edges[vertices[(1,1)],vertices[1-q,1]]=edge\n",
        "  edge=edge+1\n",
        "  x=1-q\n",
        "  while x>h:\n",
        "    edges[vertices[(x,1)],vertices[x-h,1]]=edge\n",
        "    edges[vertices[x-h,1],vertices[(x,1)]]=edge\n",
        "    temp_edges[vertices[(x,1)],vertices[x-h,1]]=edge\n",
        "    edge=edge+1\n",
        "    x=x-h\n",
        "  edges[vertices[(q,1)],vertices[0,1]]=edge\n",
        "  edges[vertices[0,1],vertices[(q,1)]]=edge\n",
        "  temp_edges[vertices[(q,1)],vertices[0,1]]=edge\n",
        "  edge=edge+1\n",
        "  edges[vertices[(0,1)],vertices[0,1-q]]=edge\n",
        "  edges[vertices[0,1-q],vertices[(0,1)]]=edge\n",
        "  temp_edges[vertices[(0,1)],vertices[0,1-q]]=edge\n",
        "  edge=edge+1\n",
        "  y=1-q\n",
        "  while y>h:\n",
        "    edges[vertices[(0,y)],vertices[0,y-h]]=edge\n",
        "    edges[vertices[0,y-h],vertices[(0,y)]]=edge\n",
        "    temp_edges[vertices[(0,y)],vertices[0,y-h]]=edge\n",
        "    edge=edge+1\n",
        "    y=y-h\n",
        "  edges[vertices[(0,q)],vertices[0,0]]=edge\n",
        "  edges[vertices[0,0],vertices[(0,q)],]=edge\n",
        "  temp_edges[vertices[(0,q)],vertices[0,0]]=edge\n",
        "  edge=edge+1\n",
        "  y=q\n",
        "  while y<1:\n",
        "    x=0\n",
        "    while x<1:\n",
        "      edges[vertices[(x,y)],vertices[x+q,y+q]]=edge\n",
        "      edges[vertices[x+q,y+q],vertices[(x,y)]]=edge\n",
        "      temp_edges[vertices[(x,y)],vertices[x+q,y+q]]=edge\n",
        "      edge=edge+1\n",
        "      edges[vertices[x+q,y+q],vertices[x+h,y]]=edge\n",
        "      edges[vertices[x+h,y],vertices[x+q,y+q]]=edge\n",
        "      temp_edges[vertices[x+q,y+q],vertices[x+h,y]]=edge\n",
        "      edge=edge+1\n",
        "      edges[vertices[x+h,y],vertices[x+q,y-q]]=edge\n",
        "      edges[vertices[x+q,y-q],vertices[x+h,y]]=edge\n",
        "      temp_edges[vertices[x+h,y],vertices[x+q,y-q]]=edge\n",
        "      edge=edge+1\n",
        "      edges[vertices[x+q,y-q],vertices[(x,y)]]=edge\n",
        "      edges[vertices[(x,y)],vertices[x+q,y-q]]=edge\n",
        "      temp_edges[vertices[x+q,y-q],vertices[(x,y)]]=edge\n",
        "      edge=edge+1\n",
        "      x=x+h\n",
        "    y=y+h\n",
        "  return edges,temp_edges"
      ],
      "metadata": {
        "id": "qoLqtBv2ek95"
      },
      "execution_count": null,
      "outputs": []
    },
    {
      "cell_type": "code",
      "source": [
        "def findDiamondEdge(edges,diamond_vertices):\n",
        "  diamond_edges=[]\n",
        "  for v in diamond_vertices:\n",
        "    diamond_edge=[edges[v[0],v[1]],edges[v[1],v[2]],edges[v[2],v[3]],edges[v[3],v[0]]]\n",
        "    diamond_edges.append(diamond_edge)\n",
        "  return diamond_edges"
      ],
      "metadata": {
        "id": "5AUVNPgNenO_"
      },
      "execution_count": null,
      "outputs": []
    },
    {
      "cell_type": "code",
      "source": [
        "def findTriangleEdges(triangle_vertices,edges):\n",
        "  triangle_edges=[]\n",
        "  for t in triangle_vertices:\n",
        "    triangle_edge=[edges[t[0],t[1]],edges[t[1],t[2]],edges[t[2],t[0]],0]\n",
        "    triangle_edges.append(triangle_edge)\n",
        "  return triangle_edges"
      ],
      "metadata": {
        "id": "2wXCl7uIepGo"
      },
      "execution_count": null,
      "outputs": []
    },
    {
      "cell_type": "code",
      "source": [
        "def findDiamondVerticesList(diamond_vertices,verticesToCoord):\n",
        "  v=set()\n",
        "  diamondVertices=[]\n",
        "  for i in diamond_vertices:\n",
        "    for j in i:\n",
        "      v.add(j)\n",
        "  for x in v:\n",
        "    key=verticesToCoord[x]\n",
        "    t=[key[0],key[1]]\n",
        "    diamondVertices.append(t)\n",
        "  return diamondVertices"
      ],
      "metadata": {
        "id": "rQsX1RlNerkv"
      },
      "execution_count": null,
      "outputs": []
    },
    {
      "cell_type": "code",
      "source": [
        "def elementNumbering(triangle_edges,diamond_edges):\n",
        "  element={}\n",
        "  ind=1\n",
        "  for i in triangle_edges:\n",
        "    element[ind]=i\n",
        "    ind=ind+1\n",
        "  for i in diamond_edges:\n",
        "    element[ind]=i\n",
        "    ind=ind+1\n",
        "  return element"
      ],
      "metadata": {
        "id": "MeIKyRLLetjv"
      },
      "execution_count": null,
      "outputs": []
    },
    {
      "cell_type": "code",
      "source": [
        "def triangleEdgeSharing(triangle_vertices):\n",
        "  triangleSharedVertices=[]\n",
        "  ind=1\n",
        "  for l in triangle_vertices:\n",
        "    for i in range(0,len(l)-2):\n",
        "      t=[l[i],l[i+1],ind,0]\n",
        "      triangleSharedVertices.append(t)\n",
        "    t=[l[i+1],l[0],ind,0]\n",
        "    triangleSharedVertices.append(t)\n",
        "    ind=ind+1\n",
        "  return triangleSharedVertices"
      ],
      "metadata": {
        "id": "7eiDNvvQevq_"
      },
      "execution_count": null,
      "outputs": []
    },
    {
      "cell_type": "code",
      "source": [
        "def createDetailMatrix(diamond_edges,diamond_vertices,triangle_edges,triangle_vertices,vertices):\n",
        "  detail=[]\n",
        "  triangle_detail=[]\n",
        "  diamond_detail=[]\n",
        "  for i in range(0,len(triangle_vertices)):\n",
        "    t=[]\n",
        "    for j in range(0,len(triangle_vertices[i])-1):\n",
        "      t.append(triangle_vertices[i][j])\n",
        "    for j in range(0,len(triangle_edges[i])-1):\n",
        "      t.append(triangle_edges[i][j])\n",
        "    for j in range(0,2):\n",
        "      if triangle_edges[i][j]<triangle_edges[i][j+1]:\n",
        "        t.append(1)\n",
        "      else:\n",
        "        t.append(-1)\n",
        "    if triangle_edges[i][2]<triangle_edges[i][0]:\n",
        "      t.append(1)\n",
        "    else:\n",
        "      t.append(-1)\n",
        "    triangle_detail.append(t)\n",
        "\n",
        "\n",
        "  for i in range(0,len(diamond_vertices)):\n",
        "    t=[]\n",
        "    for j in range(0,len(diamond_vertices[i])):\n",
        "      t.append(diamond_vertices[i][j])\n",
        "    for j in range(0,len(diamond_edges[i])):\n",
        "      t.append(diamond_edges[i][j])\n",
        "    diamond_detail.append(t)\n",
        "    detail.append(t)\n",
        "\n",
        "  return triangle_detail,diamond_detail"
      ],
      "metadata": {
        "id": "7ojDSOpqex8k"
      },
      "execution_count": null,
      "outputs": []
    },
    {
      "cell_type": "code",
      "source": [
        "def findTriangleVerticesList(vertices,verticesToCoord):\n",
        "  triangleVertices=[]\n",
        "  for k1,k2 in vertices:\n",
        "    t=[k1,k2]\n",
        "    triangleVertices.append(t)\n",
        "  return triangleVertices"
      ],
      "metadata": {
        "id": "gZvavZfie08q"
      },
      "execution_count": null,
      "outputs": []
    },
    {
      "cell_type": "code",
      "source": [
        "def diamondEdgeSharing(diamond_vertices):\n",
        "  diamondSharedVertices=[]\n",
        "  idx=0\n",
        "  for i in range(0,len(diamond_vertices)):\n",
        "    for j in range(0,4):\n",
        "      if j==3:\n",
        "        x=diamond_vertices[i][j]\n",
        "        y=diamond_vertices[i][0]\n",
        "      else:\n",
        "        x=diamond_vertices[i][j]\n",
        "        y=diamond_vertices[i][j+1]\n",
        "      t=[x,y,i+1]\n",
        "      for k in range(0,len(diamond_vertices)):\n",
        "        if k==i:\n",
        "          pass\n",
        "        else:\n",
        "          if x in diamond_vertices[k] and y in diamond_vertices[k]:\n",
        "            t.append(k+1)\n",
        "      if len(t)==3:\n",
        "        t.append(0)\n",
        "      diamondSharedVertices.append(t)\n",
        "  return diamondSharedVertices\n"
      ],
      "metadata": {
        "id": "yQsR3VHfe2wh"
      },
      "execution_count": null,
      "outputs": []
    },
    {
      "cell_type": "code",
      "source": [
        "def plot(n,diamond_coords,vertices,edges,verticesToCoord):\n",
        "  fig, ax = plt.subplots()\n",
        "  ax.set_aspect('equal')\n",
        "\n",
        "  for diamond in diamond_coords:\n",
        "      ax.plot(*zip(*diamond), '-b')\n",
        "\n",
        "  for key, value in vertices.items():\n",
        "    ax.annotate(value, (key[0], key[1]),color='red')\n",
        "\n",
        "  for key, value in edges.items():\n",
        "    x1=verticesToCoord[key[0]][0]\n",
        "    y1=verticesToCoord[key[0]][1]\n",
        "    x2=verticesToCoord[key[1]][0]\n",
        "    y2=verticesToCoord[key[1]][1]\n",
        "    ax.annotate(value,(((x1+x2)/2), ((y1+y2)/2)),color='green')\n",
        "\n",
        "  ax.set_xlim(0, 1)\n",
        "  ax.set_ylim(0, 1)\n",
        "  ax.set_xlabel('X')\n",
        "  ax.set_ylabel('Y')\n",
        "\n",
        "  plt.show()"
      ],
      "metadata": {
        "id": "4OOHR_Bde5Fj"
      },
      "execution_count": null,
      "outputs": []
    },
    {
      "cell_type": "code",
      "source": [
        "def rect_partition(n):\n",
        "  square_coords,diamond_coords = findCoords(n)\n",
        "  vertices,verticesToCoord=findVertices(1,n)\n",
        "  diamond_vertices=findDiamondVertices(n)\n",
        "  triangle_vertices=findTriangleVertices(1/(2*n),n,vertices)\n",
        "  edges,temp_edges=findEdges(1,n,vertices)\n",
        "  diamond_edges=findDiamondEdge(edges,diamond_vertices)\n",
        "  triangle_edges=findTriangleEdges(triangle_vertices,edges)\n",
        "  diamondVertices=findDiamondVerticesList(diamond_vertices,verticesToCoord)\n",
        "  verticesList=findTriangleVerticesList(vertices,verticesToCoord)\n",
        "  element=elementNumbering(triangle_edges,diamond_edges)\n",
        "  triangleSharedVertices=triangleEdgeSharing(triangle_vertices)\n",
        "  triangle_detail,diamond_detail=createDetailMatrix(diamond_edges,diamond_vertices,triangle_edges,triangle_vertices,vertices)\n",
        "  diamondSharedVertices=diamondEdgeSharing(diamond_vertices)\n",
        "  plot(n,diamond_coords,vertices,edges,verticesToCoord)\n",
        "  return verticesList,triangleSharedVertices,triangle_detail"
      ],
      "metadata": {
        "id": "xazHQRTme79D"
      },
      "execution_count": null,
      "outputs": []
    },
    {
      "cell_type": "code",
      "source": [
        "a,b,c=rect_partition(2)"
      ],
      "metadata": {
        "colab": {
          "base_uri": "https://localhost:8080/",
          "height": 460
        },
        "id": "Qvn8-SMMe_Hh",
        "outputId": "9c7af353-29f9-48b7-b1d3-286bc37dba9e"
      },
      "execution_count": null,
      "outputs": [
        {
          "output_type": "display_data",
          "data": {
            "text/plain": [
              "<Figure size 640x480 with 1 Axes>"
            ],
            "image/png": "[encoded data removed]"
          },
          "metadata": {}
        }
      ]
    },
    {
      "cell_type": "code",
      "source": [
        "def partition_rect(n):\n",
        "    p = np.array([[0, 0.25, 0.5, 0.25],\n",
        "                [0.25, 0.5, 0.25, 0]])\n",
        "    s = np.array([[1, 2, 3, 1],\n",
        "                  [2, 3, 4, 4],\n",
        "                  [1, 1, 1, 1],\n",
        "                  [-1, -2, -3, -4]])\n",
        "    t = np.array([[1], [2], [3], [4], [1], [2], [3], [4]])\n",
        "    H = 4\n",
        "    NP = 4\n",
        "    NS = 4\n",
        "    NT = 1\n",
        "    for k in range(n):\n",
        "        P = np.zeros((2, NP))\n",
        "        S = np.zeros((2, NS))\n",
        "        T = np.zeros((2, NT))\n",
        "        P=p\n",
        "        S=s.astype(int)\n",
        "        T=t.astype(int)\n",
        "        p1 = np.zeros((2, NS))\n",
        "        for i in range(NS):\n",
        "            p1[:, i] = [(P[0, S[0, i]-1] + P[0, S[1, i]-1])/2, (P[1, S[0, i]-1] + P[1, S[1, i]-1])/2]\n",
        "        p2 = np.zeros((2, NT))\n",
        "        for i in range(NT):\n",
        "            p2[:,i] = [(P[0,T[0,i]-1]+P[0,T[2,i]-1])/2, (P[1,T[0,i]-1]+P[1,T[2,i]-1])/2]\n",
        "        p = np.concatenate((p, p1, p2), axis=1)\n",
        "        s1 = np.zeros((4, 2*NS))\n",
        "        for i in range(NS):\n",
        "            s1[:,2*i] = np.array([S[0,i], NP+i+1, S[2,i], S[3,i]])\n",
        "            s1[:,2*i+1] = np.array([NP+i+1, S[1,i], S[2,i], S[3,i]])\n",
        "        s2 = np.zeros((4, 4*NT))\n",
        "        for i in range(NT):\n",
        "            s2[0:4, 4*i] = [NP+T[4,i], NP+NS+i+1, i+1, i+1]\n",
        "            s2[0:4, 4*i+1] = [NP+T[5,i], NP+NS+i+1, i+1, i+1]\n",
        "            s2[0:4, 4*i+2] = [NP+T[6,i], NP+NS+i+1, i+1, i+1]\n",
        "            s2[0:4, 4*i+3] = [NP+T[7,i], NP+NS+i+1, i+1, i+1]\n",
        "        s = np.concatenate((s1, s2), axis=1)\n",
        "        N = 2*NS + 4*NT\n",
        "        for i in range(N):\n",
        "            temp = 0\n",
        "            if s[1, i] < s[0, i]:\n",
        "                temp = s[1, i]\n",
        "                s[1, i] = s[0, i]\n",
        "                s[0, i] = temp\n",
        "        t1 = np.zeros((8, 4*NT))\n",
        "        for i in range(NT):\n",
        "            t1[0:4,4*(i+1)-4] = [T[0,i],NP+T[4,i],NP+NS+i+1,NP+T[7,i]]\n",
        "            t1[0:4,4*(i+1)-3] = [NP+T[4,i],T[1,i],NP+T[5,i],NP+NS+i+1]\n",
        "            t1[0:4,4*(i+1)-2] = [NP+NS+i+1,NP+T[5,i],T[2,i],NP+T[6,i]]\n",
        "            t1[0:4,4*(i+1)-1] = [NP+T[7,i],NP+NS+i+1,NP+T[6,i],T[3,i]]\n",
        "            t1[5,4*(i+1)-4]=2*NS+4*(i+1)-3\n",
        "            t1[7,4*(i+1)-3]=2*NS+4*(i+1)-3\n",
        "            t1[4,4*(i+1)-2]=2*NS+4*(i+1)-2\n",
        "            t1[6,4*(i+1)-3]=2*NS+4*(i+1)-2\n",
        "            t1[6,4*(i+1)-3]=2*NS+4*(i+1)-2\n",
        "            t1[7,4*(i+1)-2]=2*NS+4*(i+1)-1\n",
        "            t1[5,4*(i+1)-1]=2*NS+4*(i+1)-1\n",
        "            t1[6,4*(i+1)-4]=2*NS+4*(i+1)\n",
        "            t1[4,4*(i+1)-1]=2*NS+4*(i+1)\n",
        "            \n",
        "            if T[0, i] < T[1, i]:\n",
        "                t1[4, 4*(i+1)-4] = 2*T[4, i]-1\n",
        "                t1[4, 4*(i+1)-3] = 2*T[4, i]\n",
        "            else:\n",
        "                t1[4, 4*(i+1)-4] = 2*T[4, i]\n",
        "                t1[4, 4*(i+1)-3]= 2*T[4, i]-1\n",
        "                \n",
        "            if T[1, i] < T[2, i]:\n",
        "                t1[5, 4*(i+1)-3] = 2*T[5, i]-1\n",
        "                t1[5, 4*(i+1)-2] = 2*T[5, i]\n",
        "            else:\n",
        "                t1[5, 4*(i+1)-3] = 2*T[5, i]\n",
        "                t1[5, 4*(i+1)-2] = 2*T[5, i]-1\n",
        "            \n",
        "            if T[2, i] < T[3, i]:\n",
        "                t1[6, 4*(i+1)-2] = 2*T[6, i]-1\n",
        "                t1[6, 4*(i+1)-1] = 2*T[6, i]\n",
        "            else:\n",
        "                t1[6, 4*(i+1)-2] = 2*T[6, i]\n",
        "                t1[6, 4*(i+1)-1] = 2*T[6, i]-1\n",
        "                \n",
        "            if T[0, i] < T[3, i]:\n",
        "                t1[7, 4*(i+1)-4] = 2*T[7, i]-1\n",
        "                t1[7, 4*(i+1)-1] = 2*T[7, i]\n",
        "            else:\n",
        "                t1[7, 4*(i+1)-4] = 2*T[7, i]\n",
        "                t1[7, 4*(i+1)-1] = 2*T[7, i]-1\n",
        "        t = t1\n",
        "        a, nt = t.shape[0], t.shape[1]\n",
        "        a, ns = s.shape[0], s.shape[1]\n",
        "        tr = np.ones(ns)\n",
        "        for i in range(nt):\n",
        "            for j in range(4, 8):\n",
        "                if t[j,i]-1 <= (k+2)*H:\n",
        "                    s[2,int(t[j,i])-1] = i+1\n",
        "                else:\n",
        "                    if tr[int(t[j,i])-1] > 0:\n",
        "                        s[2,int(t[j,i])-1] = i+1\n",
        "                        tr[int(t[j,i])-1] = -1\n",
        "                    else:\n",
        "                        s[3,int(t[j,i])-1] = i+1\n",
        "        NP = np.size(p[0,:])\n",
        "        NS = np.size(s[0,:])\n",
        "        NT = np.size(t[0,:])\n",
        "    s=s.astype(int)\n",
        "    t=t.astype(int)\n",
        "    h = 1/2**n\n",
        "    plt.figure()\n",
        "    for i in range(p.shape[1]):\n",
        "        temp = str(i+1)\n",
        "        plt.text(p[0,i]+0.1*h, p[1,i]-0.1*h, temp, color='blue')\n",
        "        plt.plot(p[0,i], p[1,i], 'r*')\n",
        "    for i in range(s.shape[1]):\n",
        "        temp = str(i+1)\n",
        "        plt.text(sum(p[0,s[0:2,i]-1])/2+.002, sum(p[1,s[0:2,i]-1])/2-.005, temp, color='green')\n",
        "        plt.plot(p[0,s[0:2,i]-1],p[1,s[0:2,i]-1])\n",
        "    for i in range(t.shape[1]):\n",
        "        temp = str(i+1)\n",
        "        plt.text(sum(p[0,t[0:4,i]-1])/4, sum(p[1,t[0:4,i]-1])/4, temp, color='red')\n",
        "    plt.xlim(0, 0.5)\n",
        "    plt.ylim(0, 0.5)\n",
        "    plt.show()\n",
        "    return p,s,t"
      ],
      "metadata": {
        "id": "5_MGXzF2tRkJ"
      },
      "execution_count": null,
      "outputs": []
    },
    {
      "cell_type": "code",
      "source": [
        "a,b,c=partition_rect(2)"
      ],
      "metadata": {
        "colab": {
          "base_uri": "https://localhost:8080/",
          "height": 435
        },
        "id": "QSfSVJcaf3t8",
        "outputId": "dc95a0a3-cd5d-4666-bed4-be4515f8299b"
      },
      "execution_count": null,
      "outputs": [
        {
          "output_type": "display_data",
          "data": {
            "text/plain": [
              "<Figure size 640x480 with 1 Axes>"
            ],
            "image/png": "[encoded data removed]"
          },
          "metadata": {}
        }
      ]
    },
    {
      "cell_type": "code",
      "execution_count": null,
      "metadata": {
        "id": "4yOxcWRd1qll"
      },
      "outputs": [],
      "source": [
        "def u01(x, y):\n",
        "    global d1\n",
        "\n",
        "    if d1 == 1:\n",
        "        z = np.vstack((np.ones_like(x), x, y)).T\n",
        "    elif d1 == 2:\n",
        "        z = np.vstack((np.ones_like(x), x, y, x**2, x*y, y**2)).T\n",
        "    elif d1 == 3:\n",
        "        z = np.vstack((np.ones_like(x), x, y, x**2, x*y, y**2, x**3, x**2*y, x*y**2, y**3)).T\n",
        "    elif d1 == 4:\n",
        "        z = np.vstack((np.ones_like(x), x, y, x**2, x*y, y**2, x**3, x**2*y, x*y**2, y**3, x**4, x**3*y, x**2*y**2, x*y**3, y**4)).T\n",
        "    elif d1 == 5:\n",
        "        z = np.vstack((np.ones_like(x), x, y, x**2, x*y, y**2, x**3, x**2*y, x*y**2, y**3, x**4, x**3*y, x**2*y**2, x*y**3, y**4, x**5, x**4*y, x**3*y**2, x**2*y**3, x*y**4, y**5)).T\n",
        "    elif d1 == 6:\n",
        "        z = np.vstack((np.ones_like(x), x, y, x**2, x*y, y**2, x**3, x**2*y, x*y**2, y**3, x**4, x**3*y, x**2*y**2, x*y**3, y**4, x**5, x**4*y, x**3*y**2, x**2*y**3, x*y**4, y**5, x**6, x**5*y, x**4*y**2, x**3*y**3, x**2*y**4, x*y**5, y**6)).T\n",
        "    else:\n",
        "        raise ValueError(f\"Invalid value of d1: {d1}\")\n",
        "    \n",
        "    return z"
      ]
    },
    {
      "cell_type": "code",
      "execution_count": null,
      "metadata": {
        "id": "2ZoOs0Et2VIO"
      },
      "outputs": [],
      "source": [
        "def ub(t):\n",
        "    global d2\n",
        "    if d2 == 0:\n",
        "        z = np.ones(1).reshape(-1,1)\n",
        "        \n",
        "    elif d2 == 1:\n",
        "        z = np.column_stack([1-t, t])\n",
        "        \n",
        "    elif d2 == 2:\n",
        "        z = np.column_stack([(1-t)**2, t*(1-t), t**2])\n",
        "        \n",
        "    elif d2 == 3:\n",
        "        z = np.column_stack([t**3, t**2*(1-t), t*(1-t)**2, (1-t)**3])\n",
        "        \n",
        "    elif d2 == 4:\n",
        "        z = np.column_stack([t**4, t**3*(1-t), t**2*(1-t)**2, t*(1-t)**3, (1-t)**4])\n",
        "        \n",
        "    elif d2 == 5:\n",
        "        z = np.column_stack([t**5, t**4*(1-t), t**3*(1-t)**2, t**2*(1-t)**3, t*(1-t)**4, (1-t)**5])\n",
        "    \n",
        "    elif d2 == 6:\n",
        "        z = np.column_stack([t**6, t**5*(1-t), t**4*(1-t)**2, t**3*(1-t)**3, t**2*(1-t)**4, t*(1-t)**5, (1-t)**6])\n",
        "        \n",
        "    return z"
      ]
    },
    {
      "cell_type": "code",
      "execution_count": null,
      "metadata": {
        "id": "95U1Km6eHE4z"
      },
      "outputs": [],
      "source": [
        "import numpy as np\n",
        "\n",
        "def ul(t):\n",
        "    global d3\n",
        "    if d3 == 0:\n",
        "        return np.ones(1).reshape(-1,1)\n",
        "    elif d3 == 1:\n",
        "        return np.vstack((t, 1 - t)).T\n",
        "    elif d3 == 2:\n",
        "        return np.vstack((t, t * (1 - t), 1 - t)).T\n",
        "    elif d3 == 3:\n",
        "        return np.vstack((t ** 3, t ** 2 * (1 - t), t * (1 - t) ** 2, (1 - t) ** 3)).T\n",
        "    elif d3 == 4:\n",
        "        return np.vstack((t ** 4, t ** 3 * (1 - t), t ** 2 * (1 - t) ** 2, t * (1 - t) ** 3, (1 - t) ** 4)).T\n",
        "    elif d3 == 5:\n",
        "        return np.vstack((t ** 5, t ** 4 * (1 - t), t ** 3 * (1 - t) ** 2, t ** 2 * (1 - t) ** 3, t * (1 - t) ** 4, (1 - t) ** 5)).T\n",
        "    elif d3 == 6:\n",
        "        return np.vstack((t ** 6, t ** 5 * (1 - t), t ** 4 * (1 - t) ** 2, t ** 3 * (1 - t) ** 3, t ** 2 * (1 - t) ** 4, t * (1 - t) ** 5, (1 - t) ** 6)).T\n",
        "    else:\n",
        "        raise ValueError(\"Invalid value of d3\")\n",
        "    return z"
      ]
    },
    {
      "cell_type": "code",
      "execution_count": null,
      "metadata": {
        "id": "OrOh9ogU8ZAy"
      },
      "outputs": [],
      "source": [
        "def nablaw_basis(x, y):\n",
        "    global d3\n",
        "    if d3 == 0:\n",
        "        z = np.array([[1, 0], [0, 1]])\n",
        "    elif d3 == 1:\n",
        "        z = np.array([[1, x, y, 0, 0, 0],\n",
        "                      [0, 0, 0, 1, x, y]])\n",
        "    elif d3 == 2:\n",
        "        z = np.array([[1, x, y, x**2, x*y, y**2, 0, 0, 0, 0, 0, 0],\n",
        "                      [0, 0, 0, 0, 0, 0, 1, x, y, x**2, x*y, y**2]])\n",
        "    elif d3 == 3:\n",
        "        z = np.array([[1, x, y, x**2, x*y, y**2, x**3, x**2*y, x*y**2, y**3, 0, 0, 0, 0, 0, 0, 0, 0, 0, 0],\n",
        "                      [0, 0, 0, 0, 0, 0, 0, 0, 0, 0, 1, x, y, x**2, x*y, y**2, x**3, x**2*y, x*y**2, y**3]])\n",
        "    elif d3 == 4:\n",
        "        z = np.array([[1, x, y, x**2, x*y, y**2, x**3, x**2*y, x*y**2, y**3, x**4, x**3*y, x**2*y**2, x*y**3, y**4, 0, 0, 0, 0, 0, 0, 0, 0, 0, 0, 0, 0, 0, 0],\n",
        "                      [0, 0, 0, 0, 0, 0, 0, 0, 0, 0, 0, 0, 0, 0, 0, 1, x, y, x**2, x*y, y**2, x**3, x**2*y, x*y**2, y**3, x**4, x**3*y, x**2*y**2, x*y**3, y**4]])\n",
        "    elif d3 == 5:\n",
        "        z = np.array([[1, x, y, x**2, x*y, y**2, x**3, x**2*y, x*y**2, y**3, x**4, x**3*y, x**2*y**2, x*y**3, y**4, \n",
        "                       x**5, x**4*y, x**3*y**2, x**2*y**3, x*y**4, y**5], \n",
        "                      [0]*21, \n",
        "                      [0]*21])\n",
        "    elif d3 == 6:\n",
        "        z = np.array([[1, x, y, x**2, x*y, y**2, x**3, x**2*y, x*y**2, y**3, x**4, x**3*y, x**2*y**2, x*y**3, y**4, \n",
        "                       x**5, x**4*y, x**3*y**2, x**2*y**3, x*y**4, y**5, x**6, x**5*y, x**4*y**2, x**3*y**3, \n",
        "                       x**2*y**4, x*y**5, y**6], \n",
        "                      [0]*28, \n",
        "                      [0]*28])\n",
        "    else:\n",
        "        raise ValueError(\"d3 must be either 0, 5, or 6.\")\n",
        "        \n",
        "    return z"
      ]
    },
    {
      "cell_type": "code",
      "execution_count": null,
      "metadata": {
        "id": "bEfzTZCX4jJW"
      },
      "outputs": [],
      "source": [
        "def mass_ref():\n",
        "    x, y, t = sp.symbols('x y t')\n",
        "\n",
        "    v0 =sp.Matrix(u01(x, y))\n",
        "    vb = sp.Matrix(ub(t))\n",
        "    q = nablaw_basis(x, y)\n",
        "\n",
        "    v0v0 = sp.integrate(sp.integrate(sp.Matrix(v0.T @ v0), (x, 0, 1)), (y, 0, 1))\n",
        "    vbvb = sp.integrate(sp.Matrix(vb.T @ vb), (t, 0, 1))\n",
        "    v0v0=np.array(v0v0)\n",
        "    vbvb=np.array(vbvb)\n",
        "    vbvb=np.float64(vbvb)\n",
        "    v0v0=np.float64(v0v0)\n",
        "    q=sp.Matrix(q)\n",
        "\n",
        "    qqidx = np.zeros((12, 12, 4))\n",
        "    for i in range(2):\n",
        "        for j in range(2):\n",
        "            idx = 2 * i + j\n",
        "            qqidx[:,:,idx] = sp.integrate(sp.integrate(\n",
        "                sp.Matrix(q[i,:].T@ q[j,:]), (x, 0, 1)),(y, 0, 1))\n",
        "\n",
        "    return v0v0, vbvb, qqidx"
      ]
    },
    {
      "cell_type": "code",
      "execution_count": null,
      "metadata": {
        "id": "YtFfoPIAFawy"
      },
      "outputs": [],
      "source": [
        "def nablaw_basis(x, y):\n",
        "    global d3\n",
        "    \n",
        "    if d3 == 0:\n",
        "        return np.array([[1, 0], [0, 1]])\n",
        "    elif d3 == 1:\n",
        "        return np.array([[1, x, y, 0, 0, 0],\n",
        "                      [0, 0, 0, 1, x, y]])\n",
        "    elif d3 == 2:\n",
        "        return np.array([[1, x, y, x**2, x*y, y**2, 0, 0, 0, 0, 0, 0],\n",
        "                      [0, 0, 0, 0, 0, 0, 1, x, y, x**2, x*y, y**2]])\n",
        "    elif d3 == 3:\n",
        "        return np.array([[1, x, y, x**2, x*y, y**2, x**3, x**2*y, x*y**2, y**3, 0, 0, 0, 0, 0, 0, 0, 0, 0],\n",
        "                      [0, 0, 0, 0, 0, 0, 0, 0, 0, 0, 1, x, y, x**2, x*y, y**2, x**3, x**2*y, x*y**2, y**3]])\n",
        "    elif d3 == 4:\n",
        "        return np.array([[1, x, y, x**2, x*y, y**2, x**3, x**2*y, x*y**2, y**3,\n",
        "                       x**4, x**3*y, x**2*y**2, x*y**3, y**4, 0, 0, 0, 0, 0, 0, 0, 0, 0, 0, 0, 0, 0, 0, 0],\n",
        "                      [0, 0, 0, 0, 0, 0, 0, 0, 0, 0, 0, 0, 0, 0, 1, x, y, x**2, x*y, y**2, x**3, x**2*y, x*y**2, y**3,\n",
        "                       x**4, x**3*y, x**2*y**2, x*y**3, y**4]])\n",
        "    elif d3 == 5:\n",
        "        return np.array([np.array([1, x, y, x**2, x*y, y**2, x**3, x**2*y, x*y**2, y**3, x**4, x**3*y, x**2*y**2, x*y**3, y**4, x**5, x**4*y, x**3*y**2, x**2*y**3, x*y**4, y**5, 0, 0, 0, 0, 0, 0, 0, 0, 0, 0, 0, 0, 0, 0, 0, 0, 0, 0, 0, 0, 0]),\n",
        "                          np.array([0, 0, 0, 0, 0, 0, 0, 0, 0, 0, 0, 0, 0, 0, 0, 0, 0, 0, 0, 0, 0, 1, x, y, x**2, x*y, y**2, x**3, x**2*y, x*y**2, y**3, x**4, x**3*y, x**2*y**2, x*y**3, y**4, x**5, x**4*y, x**3*y**2, x**2*y**3, x*y**4, y**5])])\n"
      ]
    },
    {
      "cell_type": "code",
      "execution_count": null,
      "metadata": {
        "id": "tvN3x4VxFJcM"
      },
      "outputs": [],
      "source": [
        "import scipy.sparse as sp1\n",
        "def nablaw_ref():\n",
        "\n",
        "    x, y, t = sp.symbols('x y t', real=True)\n",
        "\n",
        "    v0 = u01(x, y)\n",
        "    vb = ub(t)\n",
        "    q = nablaw_basis(x, y)\n",
        "    vo=sp.Matrix(v0)\n",
        "    n1=np.array([0,-1]).reshape(-1,1)\n",
        "    n2=np.array([1,0]).reshape(-1,1)\n",
        "    n3=np.array([0,1]).reshape(-1,1)\n",
        "    n4=np.array([-1,0]).reshape(-1,1)\n",
        "    l1 = 1\n",
        "    q=sp.Matrix(q)\n",
        "    divq = sp.diff(q[0, :], x) + sp.diff(q[1, :], y)\n",
        "    qn1 = (n1.T@q).subs([(x, t), (y, 0)])\n",
        "    qn2 = (n2.T@q).subs([(x, 1), (y, t)])\n",
        "    qn3 = (n3.T@q).subs([(x, 1-t), (y, 1)])\n",
        "    qn4 = (n4.T@q).subs([(x, 0), (y, 1-t)])\n",
        "\n",
        "    qq = sp.integrate(sp.integrate(q.T @ q, (x, 0, 1)), (y, 0, 1))\n",
        "    divqv0 = -sp.integrate(sp.integrate(divq.T @ v0, (x, 0, 1)), (y, 0, 1))\n",
        "    qn1vb = l1 * sp.integrate(qn1.T @ vb, (t, 0, 1))\n",
        "    qn2vb = l1 * sp.integrate(qn2.T @ vb, (t, 0, 1))\n",
        "    qn3vb = l1 * sp.integrate(qn3.T @ vb, (t, 0, 1))\n",
        "    qn4vb = l1 * sp.integrate(qn4.T @ vb, (t, 0, 1))\n",
        "\n",
        "    ggr=np.hstack((np.array((sp.simplify(divqv0)).tolist()),np.array((sp.simplify(qn1vb)).tolist()),np.array((sp.simplify(qn2vb)).tolist()),np.array((sp.simplify(qn3vb)).tolist()),np.array((sp.simplify(qn4vb)).tolist())))\n",
        "    gg=sp.Matrix(ggr)\n",
        "    z=sp.Matrix(sp.simplify(qq).inv()@gg)\n",
        "    return z"
      ]
    },
    {
      "cell_type": "code",
      "execution_count": null,
      "metadata": {
        "id": "RYYrzgz8HYWZ"
      },
      "outputs": [],
      "source": [
        "def stable_ref2():\n",
        "    x, y, s = sp.symbols('x y s', real=True)\n",
        "    v0 = sp.Matrix(u01(x, y))\n",
        "    vb = sp.Matrix(ub(s))\n",
        "    vl = sp.Matrix(ul(s))\n",
        "    vb=np.array(vb)\n",
        "    vl=np.array(vl)\n",
        "\n",
        "\n",
        "    v01 = v0.subs([(x, s), (y, 0)])\n",
        "    v02 = v0.subs([(x, 1), (y, s)])\n",
        "    v03 = v0.subs([(x, 1-s), (y, 1)])\n",
        "    v04 = v0.subs([(x, 0), (y, 1-s)])\n",
        "\n",
        "    vlvl = sp.integrate(sp.Matrix(vl.T @ vl), (s, 0, 1))\n",
        "\n",
        "    Qbv01 = vlvl.inv() @ sp.integrate(vl.T @ v01, (s, 0, 1))\n",
        "    Qbv02 = vlvl.inv() @ sp.integrate(vl.T @ v02, (s, 0, 1))\n",
        "    Qbv03 = vlvl.inv() @ sp.integrate(vl.T @ v03, (s, 0, 1))\n",
        "    Qbv04 = vlvl.inv() @ sp.integrate(vl.T @ v04, (s, 0, 1))\n",
        "    zr = np.zeros((vl.shape[1], vb.shape[1])).astype(int)\n",
        "    vbvl = vlvl.inv() @ sp.integrate(sp.Matrix(vl.T @ vb), (s, 0, 1))\n",
        "    v1 = np.hstack((Qbv01,-vbvl,zr,zr,zr))\n",
        "    v2 = np.hstack((Qbv02,zr,-vbvl,zr,zr))\n",
        "    v3 = np.hstack((Qbv03,zr,zr,-vbvl,zr))\n",
        "    v4 = np.hstack((Qbv04,zr,zr,zr,-vbvl))\n",
        "    \n",
        "    z = np.zeros((v1.shape[1], v1.shape[1], 4))\n",
        "    z[:, :, 0] = (v1.T @ vlvl @ v1)\n",
        "    z[:, :, 1] = (v2.T @ vlvl @ v2)\n",
        "    z[:, :, 2] = (v3.T @ vlvl @ v3)\n",
        "    z[:, :, 3] = (v4.T @ vlvl @ v4)\n",
        "    return z\n"
      ]
    },
    {
      "cell_type": "code",
      "execution_count": null,
      "metadata": {
        "id": "aRopgyfOI4n_"
      },
      "outputs": [],
      "source": [
        "\n",
        "def stable_ref1():\n",
        "    x, y, t = symbols('x y t', real=True)\n",
        "\n",
        "    v0 = u01(x, y)\n",
        "    vb = ub(t)\n",
        "\n",
        "    v01 = sp.subs(v0, [(x, 1-t), (y, t)])\n",
        "    v02 = sp.subs(v0, [(x, 0), (y, 1-t)])\n",
        "    v03 = sp.subs(v0, [(x, t), (y, 0)])\n",
        "\n",
        "    vbvb = integrate(vb.T * vb, (t, 0, 1))\n",
        "\n",
        "    Qbv01 = vbvb.inv() * integrate(vb.T * v01, (t, 0, 1))\n",
        "    Qbv02 = vbvb.inv() * integrate(vb.T * v02, (t, 0, 1))\n",
        "    Qbv03 = vbvb.inv() * integrate(vb.T * v03, (t, 0, 1))\n",
        "\n",
        "    zr = zeros((len(vb), len(vb)))\n",
        "    v1 = np.hstack([Qbv01, -eye(len(vb)), zr, zr])\n",
        "    v2 = np.hstack([Qbv02, zr, -eye(len(vb)), zr])\n",
        "    v3 = np.hstack([Qbv03, zr, zr, -eye(len(vb))])\n",
        "\n",
        "    z = np.zeros((v1.shape[1], v1.shape[1], 3))\n",
        "    z[:, :, 0] = v1.T @ vbvb @ v1\n",
        "    z[:, :, 1] = v2.T @ vbvb @ v2\n",
        "    z[:, :, 2] = v3.T @ vbvb @ v3\n",
        "\n",
        "    return z.astype(float)"
      ]
    },
    {
      "cell_type": "code",
      "execution_count": null,
      "metadata": {
        "id": "nqZK03ySz-Xs"
      },
      "outputs": [],
      "source": [
        "n0 = nb = S_pre = A00_pre = None\n",
        "nabla_w_pre = DwDw_pre = draw = solu = rhs = None\n",
        "alpha = beta = gamma = para = None\n",
        "gs1_pt = gs1_wt = None\n",
        "gs1_num = Q_0 = Q_b = None\n",
        "d1 = d2 = d3 = None\n",
        "\n",
        "\n",
        "def pre_setting():\n",
        "    global n0, nb, S_pre, A00_pre\n",
        "    global nabla_w_pre, DwDw_pre, draw, solu, rhs\n",
        "    global alpha, beta, gamma, para\n",
        "    global gs1_pt, gs1_wt, gs1_num, Q_0, Q_b\n",
        "    global d1, d2, d3\n",
        "\n",
        "    np.set_printoptions(precision=15)\n",
        "\n",
        "    draw = 1\n",
        "    alpha = 1\n",
        "    beta=np.array([[0],[0]]).T\n",
        "    gamma = 0\n",
        "    para = 1\n",
        "\n",
        "    n0=u01(0,0).shape[1]\n",
        "    nb=ub(0).shape[1]\n",
        "\n",
        "    A00_pre, Q_b, DwDw_pre = mass_ref()\n",
        "    Q_0 = A00_pre\n",
        "\n",
        "    nabla_w_pre = nablaw_ref()\n",
        "    nabla_w_pre=np.float64(np.array(nabla_w_pre))\n",
        "\n",
        "    if db > dnw:\n",
        "        S_pre = stable_ref1()\n",
        "    else:\n",
        "        S_pre = stable_ref2()\n",
        "    gs1_wt = [0.118463442528095, 0.239314335249683, 0.284444444444445,\n",
        "              0.239314335249683, 0.118463442528095]\n",
        "    gs1_pt = [0.046910077030668, 0.230765344947158, 0.5,\n",
        "              0.769234655052842, 0.953089922969332]\n",
        "    gs1_num = 5"
      ]
    },
    {
      "cell_type": "code",
      "execution_count": null,
      "metadata": {
        "id": "8WgO4eJlOVt7"
      },
      "outputs": [],
      "source": [
        "def WG_partition(n):\n",
        "    global p, s, t\n",
        "    global NT, NE\n",
        "    global n0, nb\n",
        "    global dou0, doub, dof\n",
        "    \n",
        "    # p, s, t = rect_partition(n)\n",
        "    p,s,t=partition_rect(n)\n",
        "    p=np.array(p)\n",
        "    s=np.array(s)\n",
        "    t=np.array(t)\n",
        "    NT = t.shape[1]\n",
        "    NE = s.shape[1]\n",
        "    dou0 = n0*NT\n",
        "    doub = nb*NE\n",
        "    dof = dou0+doub\n"
      ]
    },
    {
      "cell_type": "code",
      "execution_count": null,
      "metadata": {
        "id": "qvj68vuWDYjv"
      },
      "outputs": [],
      "source": [
        "def loc_u0(i):\n",
        "    global n0 \n",
        "    loc_0 = np.arange(0, n0)+(n0)*(i)\n",
        "    return loc_0"
      ]
    },
    {
      "cell_type": "code",
      "execution_count": null,
      "metadata": {
        "id": "1VrOcjkNDx_D"
      },
      "outputs": [],
      "source": [
        "def loc_ub(i):\n",
        "    global nb, dou0, t\n",
        "    loc_b=nb*np.ones((nb,1))*t[4:8,i].T+np.arange(nb).reshape((-1, 1)) * np.ones((1, 4))-nb+dou0\n",
        "    return loc_b.flatten('F').astype(int)"
      ]
    },
    {
      "cell_type": "code",
      "execution_count": null,
      "metadata": {
        "id": "XHpo2p88SGLl"
      },
      "outputs": [],
      "source": [
        "def stiffness_matrix1():\n",
        "    global p, t, NT, n0, nb, dof, S_pre, A00_pre, nabla_w_pre, DwDw_pre, A, h, gamma, rect_area\n",
        "    \n",
        "    h = 0\n",
        "    dof_loc = n0 + 4*nb\n",
        "    ia = np.zeros((dof_loc*NT, dof_loc), dtype=int)\n",
        "    ja = np.zeros((dof_loc*NT, dof_loc), dtype=int)\n",
        "    va = np.zeros((dof_loc*NT, dof_loc))\n",
        "    rect_area = np.zeros((NT,1))\n",
        "    t=t.astype(int)\n",
        "    for i in range(NT):\n",
        "        P = p[0:2, t[0:4, i]-1]\n",
        "        E1 = np.zeros((2, 4))\n",
        "        E1[:, [0, 1, 2, 3]] = P[:, [1,2, 3, 0]] - P[:, [0,1, 2, 3]]\n",
        "        L1 = np.sqrt(np.sum(E1**2, axis=0))\n",
        "        E=np.zeros((2,3))\n",
        "        E[:,[0,1,2]]=P[:, [3, 0, 1]] - P[:, [1, 3, 0]]\n",
        "        rect_area[i] =L1[0]*L1[1]\n",
        "        h_T = L1[0]\n",
        "        K = L1[0]*L1[1]\n",
        "        h = max([h_T, h])\n",
        "        D = np.linalg.inv(np.array([E[:, 2], -E[:, 1]]).T)\n",
        "        nabla_w_pre=sp.Matrix(nabla_w_pre)\n",
        "        nabla_w = nabla_w_pre.T\n",
        "        T = D.T @ D\n",
        "        DwDw = (T[0, 0] * DwDw_pre[:, :, 0] + T[0, 1] * DwDw_pre[:, :, 1] +\n",
        "                T[1, 0] * DwDw_pre[:, :, 2] + T[1, 1] * DwDw_pre[:, :, 3]) * K\n",
        "        A00 = A00_pre * K\n",
        "        Abb = nabla_w @ DwDw @ nabla_w.T\n",
        "        S_loc = np.zeros((n0+(4*nb)))\n",
        "        for j in range(4):\n",
        "            S_loc = S_loc + S_pre[:, :, j] * L1[j] / h_T\n",
        "        \n",
        "        A_loc=Abb\n",
        "        A_loc[0:3,0:3]=Abb[0:3,0:3]+A00\n",
        "        # A_loc = A_loc + S_loc\n",
        "        loc_0 = loc_u0(i)\n",
        "        loc_b = loc_ub(i)\n",
        "        loc = np.concatenate((loc_0, loc_b))\n",
        "        ptorder = [0, 1, 2, 3, 0]\n",
        "        for j in range(1,5):\n",
        "            if t[ptorder[j], i] > t[ptorder[j-1], i]:\n",
        "                loc[n0+nb*j-nb:n0+nb*j]=loc[n0+nb*j-1:n0+nb*j-nb-1:-1]\n",
        "        x, y = np.meshgrid(loc, loc)\n",
        "        ia[dof_loc * i : dof_loc * (i + 1), :] = x\n",
        "        ja[dof_loc * i:dof_loc * (i+1), :] = y\n",
        "        va[dof_loc * i:dof_loc * (i+1), :] = A_loc\n",
        "\n",
        "    A = csr_matrix((va.ravel(), (ia.ravel(),ja.ravel())),shape=(dof,dof))"
      ]
    },
    {
      "cell_type": "code",
      "execution_count": null,
      "metadata": {
        "id": "AItUeP3G_SlF"
      },
      "outputs": [],
      "source": [
        "def stiffnessmat_C():\n",
        "    global p, t, n0, dof, Q_0, NT, C,Area\n",
        "    \n",
        "    ia = np.zeros((n0*NT, n0))\n",
        "    ja = np.zeros((n0*NT, n0))\n",
        "    va = np.zeros((n0*NT, n0))\n",
        "    for i in range(NT):\n",
        "        Area = 1/NT\n",
        "        loc = np.arange(n0*(i), n0*(i+1))\n",
        "        mesh = np.meshgrid(loc, loc, indexing='ij')\n",
        "        x, y = mesh[0], mesh[1]\n",
        "        ia[n0*i:n0*(i+1), :] = x\n",
        "        ja[n0*i:n0*(i+1), :] = y\n",
        "        va[n0*i:n0*(i+1), :] = Q_0 * Area\n",
        "    \n",
        "    C = csc_matrix((va.ravel(), (ia.ravel(), ja.ravel())), shape=(dof, dof))"
      ]
    },
    {
      "cell_type": "code",
      "execution_count": null,
      "metadata": {
        "id": "aFWxJ9oWQv_e"
      },
      "outputs": [],
      "source": [
        "\n",
        "def f(x, y):\n",
        "    # z = 2*np.pi*np.pi*np.sin(np.pi*x)*np.sin(np.pi*y)\n",
        "    z=2*np.pi**2*np.cos(np.pi*(x + y))*math.exp(x + y) - np.cos(np.pi*(x + y))*math.exp(x + y) + 4*np.pi*math.exp(x + y)*np.sin(np.pi*(x + y))\n",
        "    return z"
      ]
    },
    {
      "cell_type": "code",
      "execution_count": null,
      "metadata": {
        "id": "4YSO0OGv4pIC"
      },
      "outputs": [],
      "source": [
        "def u_real(x, y):\n",
        "    # z = np.sin(np.pi * x) * np.sin(np.pi * y)\n",
        "    z = np.sin(x+y) * np.cos(np.pi * (x+y))\n",
        "    return z"
      ]
    },
    {
      "cell_type": "code",
      "execution_count": null,
      "metadata": {
        "id": "OfZS4jttRZ2b"
      },
      "outputs": [],
      "source": [
        "def u0(P,x,y):\n",
        "    global d1\n",
        "\n",
        "    x1 = P[0,0]\n",
        "    x2 = P[0,1]\n",
        "    y1 = P[1,0]\n",
        "    y2 = P[1,3]\n",
        "\n",
        "    L = np.zeros(4)\n",
        "    L[1] = (x-x1)/(x2-x1)\n",
        "    L[2] = (y-y1)/(y2-y1)\n",
        "\n",
        "    if d1 == 1:\n",
        "        z = np.array([1, L[1], L[2]])\n",
        "    elif d1 == 2:\n",
        "        z = np.array([1, L[1], L[2], L[1]**2, L[1]*L[2], L[2]**2])\n",
        "    elif d1 == 3:\n",
        "        z = np.array([1, L[1], L[2], L[1]**2, L[1]*L[2], L[2]**2, L[1]**3, L[1]**2*L[2], L[2]**2*L[1], L[2]**3])\n",
        "    elif d1 == 4:\n",
        "        z = np.array([1, L[1], L[2], L[1]**2, L[1]*L[2], L[2]**2, L[1]**3, L[1]**2*L[2], L[2]**2*L[1], L[2]**3, L[1]**4, L[1]**3*L[2], L[1]**2*L[2]**2, L[1]*L[2]**3, L[2]**4])\n",
        "  \n",
        "    return z\n"
      ]
    },
    {
      "cell_type": "code",
      "execution_count": null,
      "metadata": {
        "id": "Hkb6MwgPR7EQ"
      },
      "outputs": [],
      "source": [
        "def pdt_2d(fun1, fun2, x, y):\n",
        "    return fun1(x, y) * fun2(x, y)"
      ]
    },
    {
      "cell_type": "code",
      "execution_count": null,
      "metadata": {
        "id": "rl9sOgjASKnO"
      },
      "outputs": [],
      "source": [
        "\n",
        "def gint_2d_rect(fun,P):\n",
        "    x1, x2 = P[0,0], P[0,1]\n",
        "    y1, y2 = P[1,0], P[1,3]\n",
        "\n",
        "    weight = np.array([0.1142208673789570,0.1134763461089651,0.1134763461089651,\n",
        "                       0.1112524883568452,0.1112524883568452,0.1075782857885332,\n",
        "                       0.1075782857885332,0.1025016378177458,0.1025016378177458,\n",
        "                       0.0960887273700285,0.0960887273700285,0.0884231585437569,\n",
        "                       0.0884231585437569,0.0796048677730578,0.0796048677730578,\n",
        "                       0.0697488237662456,0.0697488237662456,0.0589835368598336,\n",
        "                       0.0589835368598336,0.0474494125206151, 0.0474494125206151,\n",
        "                       0.0352970537574197,0.0352970537574197,0.0226862315961806,\n",
        "                       0.0226862315961806,0.0097989960512944,0.0097989960512944])\n",
        "\n",
        "    location = np.array([0.0000000000000000,-0.1139725856095300,0.1139725856095300,\n",
        "                         -0.2264593654395368,0.2264593654395368,-0.3359939036385089,\n",
        "                         0.3359939036385089, -0.4411482517500269,0.4411482517500269,\n",
        "                         -0.5405515645794569,0.5405515645794569,-0.6329079719464952,\n",
        "                         0.6329079719464952,-0.7170134737394237,0.7170134737394237,\n",
        "                         -0.7917716390705082,0.7917716390705082,-0.8562079080182945,\n",
        "                         0.8562079080182945,-0.9094823206774911,0.9094823206774911,\n",
        "                         -0.9509005578147051,0.9509005578147051,-0.9799234759615012,\n",
        "                         0.9799234759615012,-0.9961792628889886,0.9961792628889886])\n",
        "\n",
        "    location = (location+1)/2\n",
        "    locx = x1 + location*(x2-x1)\n",
        "    locy = y1 + location*(y2-y1)\n",
        "    K = abs((y2-y1)*(x2-x1))\n",
        "\n",
        "    z = 0\n",
        "    for i in range(27):\n",
        "      for j in range(27):\n",
        "          z = z + K/4 * weight[i] * weight[j] * fun(locx[i], locy[j])\n",
        "    return z\n"
      ]
    },
    {
      "cell_type": "code",
      "execution_count": null,
      "metadata": {
        "id": "XY6Lnv_oRpQG"
      },
      "outputs": [],
      "source": [
        "def inpdt_2d_rect(fun1, fun2,P):\n",
        "  z = gint_2d_rect(lambda x, y: pdt_2d(fun1, fun2, x, y), P)\n",
        "  return z"
      ]
    },
    {
      "cell_type": "code",
      "execution_count": null,
      "metadata": {
        "id": "91Nv_VNeRgFI"
      },
      "outputs": [],
      "source": [
        "def right_side():\n",
        "    global NT, dof, t, p, F, rhs\n",
        "    \n",
        "    F = np.zeros((dof,1))\n",
        "    \n",
        "    for i in range(NT):\n",
        "        P = p[0:2, t[0:4,i]-1]\n",
        "        \n",
        "        loc_0 = loc_u0(i)\n",
        "        F[loc_0] = inpdt_2d_rect(f, lambda x, y: u0(P, x, y), P).reshape(-1,1)"
      ]
    },
    {
      "cell_type": "code",
      "execution_count": null,
      "metadata": {
        "id": "wILvyyMqVXcP"
      },
      "outputs": [],
      "source": [
        "def ul3(t):\n",
        "    global d2\n",
        "    \n",
        "    if d2 == 0:\n",
        "        z = np.ones(1).reshape(-1,1)\n",
        "    elif d2 == 1:\n",
        "        z = np.vstack([t, 1-t]).T\n",
        "    elif d2 == 2:\n",
        "        z = np.vstack([t**2, t*(1-t), (1-t)**2]).T\n",
        "    elif d2 == 3:\n",
        "        z = np.vstack([t**3, t**2*(1-t), t*(1-t)**2, (1-t)**3]).T\n",
        "    elif d2 == 4:\n",
        "        z = np.vstack([t**4, t**3*(1-t), t**2*(1-t)**2, t*(1-t)**3, (1-t)**4]).T\n",
        "    elif d2 == 5:\n",
        "        z = np.vstack([t**5, t**4*(1-t), t**3*(1-t)**2, t**2*(1-t)**3, t*(1-t)**4, (1-t)**5]).T\n",
        "    elif d2 == 6:\n",
        "        z = np.vstack([t**6, t**5*(1-t), t**4*(1-t)**2, t**3*(1-t)**3, t**2*(1-t)**4, t*(1-t)**5, (1-t)**6]).T\n",
        "    \n",
        "    return z\n"
      ]
    },
    {
      "cell_type": "code",
      "execution_count": null,
      "metadata": {
        "id": "lcUu7ZDE4ORo"
      },
      "outputs": [],
      "source": [
        "def pdt_1d(fun1, fun2, t):\n",
        "    return fun1(t) * fun2(t)"
      ]
    },
    {
      "cell_type": "code",
      "execution_count": null,
      "metadata": {
        "id": "S21-61QQ4AFU"
      },
      "outputs": [],
      "source": [
        "def gint_1d(fun, a, b):\n",
        "    weight = [0.236926885056189, 0.478628670499366, 0.568888888888889,\n",
        "              0.478628670499366, 0.236926885056189]\n",
        "    location = [0.046910077030668, 0.230765344947158, 0.5,\n",
        "                0.769234655052842, 0.953089922969332]\n",
        "    y = 0\n",
        "    for i in range(5):\n",
        "        y += weight[i] * fun(a + location[i] * (b - a)) * (b - a) / 2\n",
        "    return y"
      ]
    },
    {
      "cell_type": "code",
      "execution_count": null,
      "metadata": {
        "id": "EWqVqzSqVNjq"
      },
      "outputs": [],
      "source": [
        "def inpdt_1d(fun1, fun2, a,b):\n",
        "  z=gint_1d(lambda t: fun1(t) * fun2(t), a, b)\n",
        "  return z"
      ]
    },
    {
      "cell_type": "code",
      "execution_count": null,
      "metadata": {
        "id": "_ECq8tFR45B8"
      },
      "outputs": [],
      "source": [
        "def Qb(f, P):\n",
        "    global Q_b\n",
        "\n",
        "    F = inpdt_1d(lambda t: f((1-t)*P[0,0] + t*P[0,1], (1-t)*P[1,0] + t*P[1,1]), ul3, 0,1)\n",
        "    z = np.linalg.solve(Q_b, F.T)\n",
        "    return z"
      ]
    },
    {
      "cell_type": "code",
      "execution_count": null,
      "metadata": {
        "id": "KEp-qRax_6Eg"
      },
      "outputs": [],
      "source": [
        "def Dirichlet_boundary():\n",
        "    global s, p, NE, dou0, dof, nb, A, F, solu\n",
        "    s=s.astype(int)\n",
        "    for i in range(NE):\n",
        "        if s[3,i] <= 0:\n",
        "            P = p[0:2, s[0:2,i]-1]\n",
        "            loc_b = np.arange(nb) + nb*(i) + dou0\n",
        "            F[loc_b] = Qb(u_real, P)\n",
        "            A[loc_b,:] = np.zeros((nb, dof))\n",
        "            A[loc_b[:,None], loc_b] = np.eye(nb)"
      ]
    },
    {
      "cell_type": "code",
      "execution_count": null,
      "metadata": {
        "id": "_ytreJxQGoYR"
      },
      "outputs": [],
      "source": [
        "def solve_WG():\n",
        "    global A, F, dof, uh, p,t,NT,n0\n",
        "    uh = np.linalg.solve(A.toarray(), F)"
      ]
    },
    {
      "cell_type": "code",
      "execution_count": null,
      "metadata": {
        "id": "1W9aJEGq_R3f"
      },
      "outputs": [],
      "source": [
        "def Q0(f, P):\n",
        "    global Q_0, Area\n",
        "    K = Area\n",
        "    F = inpdt_2d_rect(f, lambda x, y: u0(P, x, y), P) / K\n",
        "    return np.linalg.solve(Q_0, F)"
      ]
    },
    {
      "cell_type": "code",
      "execution_count": null,
      "metadata": {
        "id": "wf3DQhu898iP"
      },
      "outputs": [],
      "source": [
        "def Qh(fun):\n",
        "    global dof, dou0,  nb \n",
        "    global p, s, t, NT, NE\n",
        "    Qhu = np.zeros(dof)\n",
        "    for i in range(NT):\n",
        "        P =p[0:2,t[0:4,i]-1]\n",
        "        loc_0=loc_u0(i)\n",
        "        Qhu[loc_0]=Q0(fun,P)\n",
        "    for i in range(NE):\n",
        "        P = p[0:2, s[0:2, i]-1]\n",
        "        loc_b = np.arange(nb) + nb*(i-1) + dou0\n",
        "        Qhu[loc_b] = Qb(fun, P).reshape(1,-1)\n",
        "    return Qhu"
      ]
    },
    {
      "cell_type": "code",
      "execution_count": null,
      "metadata": {
        "id": "3UtIJ03y-cOR"
      },
      "outputs": [],
      "source": [
        "def error_est():\n",
        "    global dou0, doub, uh, A, C, solu, draw, err,Qhum,K8\n",
        "\n",
        "    Qhu = Qh(lambda x, y: u_real(x, y)).reshape(-1,1)\n",
        "    eh = Qhu - uh\n",
        "    loc_u = np.arange(0, dou0 + doub)\n",
        "    err_trb = eh[loc_u].T @ A[loc_u][:, loc_u] @ eh[loc_u]\n",
        "    err_trb = np.sqrt(err_trb)\n",
        "    err_L2 = np.sqrt(eh.T @ C @ eh)\n",
        "    err_trb = (err_L2)**(K8/(K8+1))\n",
        "    err = [err_trb, err_L2]"
      ]
    },
    {
      "cell_type": "code",
      "execution_count": null,
      "metadata": {
        "id": "eXwhlxsoOHLk",
        "colab": {
          "base_uri": "https://localhost:8080/"
        },
        "outputId": "277c09bc-60bf-48b7-e72d-78098e6b8171"
      },
      "outputs": [
        {
          "output_type": "stream",
          "name": "stdout",
          "text": [
            "\n",
            " Error and Order of accuracy\n",
            "\n",
            "\n",
            "Mesh Level\tL2_Error\tL2_EOC\t\tH1_Error\tH1_EOC\n",
            "\n",
            "1.000000\t0.208107\t0.000000\t0.456188\t0.000000\n",
            "2.000000\t0.200333\t0.421733\t0.447585\t0.210866\n"
          ]
        }
      ],
      "source": [
        "def main():\n",
        "    global d1, d2, d3, err, h, K8,uh, Area, dof,nb,t,F\n",
        "    n11 = 1\n",
        "    n1 =[1, 2]\n",
        "    H = np.zeros((1, len(n1)))\n",
        "    H1_error = np.zeros((1, len(n1)))\n",
        "    L2_error = np.zeros((1, len(n1)))\n",
        "    L2_Order = np.zeros((1, len(n1)))\n",
        "    H1_Order = np.zeros((1, len(n1)))\n",
        "\n",
        "    for k in range(1,2):    \n",
        "        d0 = k\n",
        "        db = k+1\n",
        "        dnw = k+1\n",
        "        K8 =k;\n",
        "        for l in range(1,3):\n",
        "            n=2**l\n",
        "            d1 = d0\n",
        "            d2 = db\n",
        "            d3 = dnw\n",
        "            pre_setting()\n",
        "            WG_partition(n)\n",
        "            stiffness_matrix1()\n",
        "            stiffnessmat_C()\n",
        "            right_side()\n",
        "            Dirichlet_boundary()\n",
        "            solve_WG()\n",
        "            error_est()\n",
        "            H[0,l-1]=h\n",
        "            H1_error[0,l-1] = err[0]\n",
        "            L2_error[0,l-1] = err[1]\n",
        "        \n",
        "        for j in range(l):\n",
        "            L2_Order[0,j] = math.log(L2_error[0,j]) / math.log(H[0,j])\n",
        "        for j in range(l):\n",
        "            H1_Order[0,j] = math.log(H1_error[0,j]) / math.log(H[0,j])\n",
        "        L2_error = L2_error.T\n",
        "        L2_EOC = L2_Order.T\n",
        "\n",
        "        H1_error = H1_error.T\n",
        "        H1_EOC = H1_Order.T\n",
        "        L2_EOC[0]=0\n",
        "        H1_EOC[0]=0\n",
        "        label=H.T\n",
        "        label[0]=1\n",
        "        label[1]=2\n",
        "\n",
        "        print('\\n Error and Order of accuracy\\n\\n')\n",
        "        print('Mesh Level\\tL2_Error\\tL2_EOC\\t\\tH1_Error\\tH1_EOC\\n')\n",
        "        for i in range(2):\n",
        "            print('{:>8f}\\t{:>8f}\\t{:>8f}\\t{:>8f}\\t{:>8f}'.format(*label[i], *L2_error[i], *L2_EOC[i], *H1_error[i], *H1_EOC[i]))\n",
        "        "
      ]
    }
  ],
  "metadata": {
    "colab": {
      "provenance": [],
      "toc_visible": true,
      "include_colab_link": true
    },
    "kernelspec": {
      "display_name": "Python 3",
      "name": "python3"
    },
    "language_info": {
      "name": "python"
    }
  },
  "nbformat": 4,
  "nbformat_minor": 0
}